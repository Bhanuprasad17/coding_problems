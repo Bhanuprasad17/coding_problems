{
 "cells": [
  {
   "cell_type": "markdown",
   "metadata": {},
   "source": [
    "# 1.Create a function that takes two numbers as arguments and returns their sum."
   ]
  },
  {
   "cell_type": "code",
   "execution_count": null,
   "metadata": {},
   "outputs": [],
   "source": [
    "def sum(num1,num2):\n",
    "    return num1+num2\n",
    "print(sum(5,10))"
   ]
  },
  {
   "cell_type": "markdown",
   "metadata": {},
   "source": [
    "# 2.Write a function that takes an integer minutes and converts it to seconds"
   ]
  },
  {
   "cell_type": "code",
   "execution_count": null,
   "metadata": {},
   "outputs": [],
   "source": [
    "def convertToSec(num):\n",
    "    return num * 60\n",
    "\n",
    "num = 5\n",
    "print(convertToSec(num))"
   ]
  },
  {
   "cell_type": "markdown",
   "metadata": {},
   "source": [
    "# 3.Create a function that takes a number as an argument, increments the number by +1 and returns the result."
   ]
  },
  {
   "cell_type": "code",
   "execution_count": null,
   "metadata": {},
   "outputs": [],
   "source": [
    "def incrementNum(num):\n",
    "    return num + 1\n",
    "\n",
    "num = 6\n",
    "print(incrementNum(num))"
   ]
  },
  {
   "cell_type": "markdown",
   "metadata": {},
   "source": [
    "# 4.Create a function that takes the age in years and returns the age in days"
   ]
  },
  {
   "cell_type": "code",
   "execution_count": null,
   "metadata": {},
   "outputs": [],
   "source": [
    "def years_to_days(age):\n",
    "    return age*365\n",
    "print(years_to_days(3))"
   ]
  },
  {
   "cell_type": "markdown",
   "metadata": {},
   "source": [
    "# 5.sbi Create a function that takes voltage and current and returns the calculated power"
   ]
  },
  {
   "cell_type": "code",
   "execution_count": null,
   "metadata": {},
   "outputs": [],
   "source": [
    "def power(voltage,current):\n",
    "    return voltage*current\n",
    "print(power(2,5))"
   ]
  },
  {
   "cell_type": "markdown",
   "metadata": {},
   "source": [
    "# 6.Write a function that returns the string \"something\" joined with a space \" \" and the given argument a."
   ]
  },
  {
   "cell_type": "code",
   "execution_count": null,
   "metadata": {},
   "outputs": [],
   "source": [
    "def join_with_something(a):\n",
    "    return \"something \" + str(a) \n",
    "\n",
    "print(join_with_something(\"cool\"))   \n",
    "print(join_with_something(42))       \n",
    "print(join_with_something(True)) "
   ]
  },
  {
   "cell_type": "markdown",
   "metadata": {},
   "source": [
    "# 7.Create a function that takes two arguments. Both arguments are integers, a and b. Return true if one of them is 10 or if their sum is 10"
   ]
  },
  {
   "cell_type": "code",
   "execution_count": null,
   "metadata": {},
   "outputs": [],
   "source": [
    "def fun(num1,num2):\n",
    "    if num1 == 10 or num2 == 10 or num1 + num2 == 10:\n",
    "        print(True)\n",
    "fun(2,8)"
   ]
  },
  {
   "cell_type": "markdown",
   "metadata": {},
   "source": [
    "# 8.Create a function that takes two strings as arguments and returns either true or false depending on whether the total number of characters in the first string is equal to the total number of characters in the second string."
   ]
  },
  {
   "cell_type": "code",
   "execution_count": null,
   "metadata": {},
   "outputs": [],
   "source": [
    "def lenthSame(str,str2):\n",
    "    if len(str) == len(str2):\n",
    "        print(True)\n",
    "    else :\n",
    "        print(False)\n",
    "\n",
    "lenthSame(\"bhanu\",\"1234\") "
   ]
  },
  {
   "cell_type": "markdown",
   "metadata": {},
   "source": [
    "# 9.Create a function that takes a name and returns a greeting in the form of a string. Don't use a normal function, use an arrow function."
   ]
  },
  {
   "cell_type": "code",
   "execution_count": null,
   "metadata": {},
   "outputs": [],
   "source": [
    "def greeting(name):\n",
    "    print(f'Hello {name}')\n",
    "\n",
    "greeting(\"Bhanu\")"
   ]
  },
  {
   "cell_type": "markdown",
   "metadata": {},
   "source": [
    "# 10.Create a function that takes an array of 10 numbers (between 0 and 9) and returns a string of those numbers formatted as a phone number (e.g. (555) 555-5555)."
   ]
  },
  {
   "cell_type": "code",
   "execution_count": null,
   "metadata": {},
   "outputs": [],
   "source": [
    "def phone_numbers(a):\n",
    "     return \"({}{}{}) {}{}{}-{}{}{}{}\".format(*a)\n",
    "    # return f\"({a[8]}{a[1]}{a[3]}) {a[2]}{a[6]}{a[8]}-{a[5]}{a[7]}{a[5]}{a[7]}\"\n",
    "print(phone_numbers([0,1,2,3,4,5,6,7,8,9]))"
   ]
  },
  {
   "cell_type": "markdown",
   "metadata": {},
   "source": [
    "# 11.Create a function that returns an array of strings sorted by length in ascending order.\n",
    "Example:\n",
    "sortByLength([\"a\", \"ccc\", \"dddd\", \"bb\"]) ➞ [\"a\", \"bb\", \"ccc\", \"dddd\"]"
   ]
  },
  {
   "cell_type": "code",
   "execution_count": null,
   "metadata": {},
   "outputs": [],
   "source": [
    "def sort_by_length(arr):\n",
    "    n = len(arr)\n",
    "    \n",
    "    for i in range(n - 1):  \n",
    "        for j in range(n - i - 1):  \n",
    "            if len(arr[j]) > len(arr[j + 1]):  \n",
    "                arr[j], arr[j + 1] = arr[j + 1], arr[j]  \n",
    "    \n",
    "    return arr\n",
    "\n",
    "words = [\"a\", \"ccc\", \"dddd\", \"bb\"]\n",
    "sorted_words = sort_by_length(words)\n",
    "print(sorted_words) "
   ]
  },
  {
   "cell_type": "markdown",
   "metadata": {},
   "source": [
    "# 12.Create a function that takes an array of arrays with numbers. Return a new (single) array with the largest numbers of each.\n",
    "Example:\n",
    "findLargestNums([[4, 2, 7, 1], [20, 70, 40, 90], [1, 2, 0]]) ➞ [7, 90, 2]\n"
   ]
  },
  {
   "cell_type": "code",
   "execution_count": null,
   "metadata": {},
   "outputs": [],
   "source": [
    "\n",
    "def find_large_num(my_list):\n",
    "\n",
    "    if len(my_list) == 0:\n",
    "        return \"List is empty, no minimum element.\"\n",
    "    \n",
    "    if len(my_list) == 1:\n",
    "        return my_list[0]\n",
    "    \n",
    "    large_num = float('-inf')\n",
    "\n",
    "    for i in range(1,len(my_list)):\n",
    "        if  large_num < my_list[i] :\n",
    "            large_num = my_list[i]\n",
    "\n",
    "    return large_num\n",
    "\n",
    "def findLargestNums(arr):\n",
    "\n",
    "    newArr = []\n",
    "    for subArr in arr:\n",
    "        newArr.append(find_large_num(subArr))\n",
    "    return newArr    \n",
    "\n",
    "\n",
    "\n",
    "print(findLargestNums([[4, 2, 7, 1], [20, 70, 40, 90], [1, 2, 0]]))"
   ]
  },
  {
   "cell_type": "markdown",
   "metadata": {},
   "source": [
    "\n",
    "# 13.Create a function that takes an array of numbers and returns the second largest number.\n",
    "Example:\n",
    "secondLargest([10, 40, 30, 20, 50]) ➞ 40"
   ]
  },
  {
   "cell_type": "code",
   "execution_count": null,
   "metadata": {},
   "outputs": [],
   "source": [
    "def find_second_largest(my_list):\n",
    "    if len(my_list) < 2:\n",
    "        return \"Second Largest Number: Not Found\"\n",
    "    \n",
    "    largest = my_list[0]\n",
    "    second_largest = float('-inf')\n",
    "\n",
    "    for i in range(1, len(my_list)):\n",
    "        if my_list[i] > largest:\n",
    "            second_largest = largest\n",
    "            largest = my_list[i]\n",
    "        elif my_list[i] > second_largest and my_list[i] != largest:\n",
    "            second_largest = my_list[i]\n",
    "\n",
    "    if second_largest == float('-inf'):\n",
    "        return \"Second Largest Number: Not Found\"\n",
    "    else:\n",
    "        return second_largest\n",
    "\n",
    "\n",
    "my_list = [10, 2, 5, 6, 12, 9]\n",
    "print(\"Second Largest:\", find_second_largest(my_list))\n",
    "\n",
    "my_list = [1, 5, 2, 10, 9]\n",
    "print(\"Second Largest:\", find_second_largest(my_list))\n",
    "\n",
    "my_list = [3, 3, 3, 3, 3]\n",
    "print(\"Second Largest:\", find_second_largest(my_list))\n",
    "\n",
    "my_list = [5]\n",
    "print(\"Second Largest:\", find_second_largest(my_list))\n",
    "\n",
    "my_list = []\n",
    "print(\"Second Largest:\", find_second_largest(my_list))"
   ]
  },
  {
   "cell_type": "markdown",
   "metadata": {},
   "source": [
    "# 14. Create a function that takes an array of items, removes all duplicate items and returns a new array in the same sequential order as the old array (minus duplicates).\n",
    "Example:\n",
    "removeDups([1, 0, 1, 0]) ➞ [1, 0]\n",
    "removeDups([\"The\", \"big\", \"cat\"]) ➞ [\"The\", \"big\", \"cat\"]"
   ]
  },
  {
   "cell_type": "code",
   "execution_count": null,
   "metadata": {},
   "outputs": [],
   "source": [
    "\n",
    "def shift_left(lst,index):\n",
    "    k = index\n",
    "    while k < len(lst) - 1:\n",
    "        lst[k] = lst[k+1]\n",
    "        k += 1\n",
    "    lst.pop()    \n",
    "    # return lst\n",
    "\n",
    "def remove_duplicates(lst):\n",
    "    i = 0 \n",
    "    while i < len(lst) :\n",
    "        j = i + 1\n",
    "        while j < len(lst) :\n",
    "            if lst[i] == lst[j] :\n",
    "                # shift_left(lst,j)\n",
    "                lst.pop(j)\n",
    "            else :\n",
    "                j += 1\n",
    "        i += 1                \n",
    "\n",
    "arr = [1, 2, 2, 3, 4, 4, 5]\n",
    "arr =  [1, 1, 1, 1]\n",
    "arr =  [1, 2, 3, 4]\n",
    "arr =  []\n",
    "arr =  [5]\n",
    "arr =  [3, 3, 2, 1, 2, 3, 4, 4]\n",
    "arr = [\"a\",\"aa\",\"aa\",\"b\",\"bb\",\"bb\"]\n",
    "remove_duplicates(arr)\n",
    "print(arr)"
   ]
  },
  {
   "cell_type": "markdown",
   "metadata": {},
   "source": [
    "# 15. Create a function that takes an array of integers as an argument and returns a unique number from that array. All numbers except unique ones have the same number of occurrences in the array.\n",
    "Example:\n",
    "findSingleNumber([2, 2, 2, 3, 4, 4, 4]) ➞ 3\n"
   ]
  },
  {
   "cell_type": "code",
   "execution_count": null,
   "metadata": {},
   "outputs": [],
   "source": [
    "def find_unique_numbers(arr):\n",
    "    uniqueNumbers = []\n",
    "\n",
    "    for num in arr:\n",
    "        count = 0\n",
    "        for i in arr :\n",
    "            if num == i :\n",
    "                count += 1\n",
    "        if count == 1 :\n",
    "            uniqueNumbers.append(num)   \n",
    "\n",
    "    return uniqueNumbers\n",
    "\n",
    "\n",
    "arr = [2,2,2,3,4,4,4]\n",
    "arr = [4, 4, 2, 2, 3, 3, 5, 7, 8]\n",
    "print(find_unique_numbers(arr))"
   ]
  },
  {
   "cell_type": "markdown",
   "metadata": {},
   "source": [
    "# 16. Create a function that takes two strings as arguments and returns the number of times the first string (the single character) is found in the second string.\n",
    "Example:\n",
    "\n",
    "charCount(\"c\", \"Chamber of secrets\") ➞ 1"
   ]
  },
  {
   "cell_type": "code",
   "execution_count": null,
   "metadata": {},
   "outputs": [],
   "source": [
    "def char_count(char,text):\n",
    "    count = 0\n",
    "\n",
    "    for i in text:\n",
    "        if char == i :\n",
    "            count += 1\n",
    "    return count\n",
    "\n",
    "print(char_count(\"c\",\"Chamber of secrets\"))    "
   ]
  },
  {
   "cell_type": "markdown",
   "metadata": {},
   "source": [
    "# 17.Create a function that takes a string and returns the number (count) of vowels contained within it.\n",
    "Example:\n",
    "countVowels(\"Celebration\") ➞ 5"
   ]
  },
  {
   "cell_type": "code",
   "execution_count": null,
   "metadata": {},
   "outputs": [],
   "source": [
    "def countVowels(string):\n",
    "    count = 0\n",
    "    for i in string:\n",
    "        if i in ['a','e','i','o','u']:\n",
    "            count += 1       \n",
    "    return count\n",
    "\n",
    "print(countVowels(\"Celebration\"))     "
   ]
  },
  {
   "cell_type": "markdown",
   "metadata": {},
   "source": [
    "# 18.Given a string, create a function to reverse the case. All lower-cased letters should be upper-cased, and vice versa.\n",
    "Example:\n",
    "reverseCase(\"Happy Birthday\") ➞ \"hAPPY bIRTHDAY"
   ]
  },
  {
   "cell_type": "code",
   "execution_count": null,
   "metadata": {},
   "outputs": [],
   "source": [
    "str = 'Happy Birthday'\n",
    "\n",
    "def reverseCase(str):\n",
    "    newstr = ''\n",
    "    for i in str:\n",
    "        if i==i.upper():\n",
    "            newstr += (i.lower())\n",
    "        else:\n",
    "            newstr += (i.upper())\n",
    "    return newstr\n",
    "\n",
    "print(reverseCase(str))"
   ]
  },
  {
   "cell_type": "markdown",
   "metadata": {},
   "source": [
    "# 19. Take one integer n, loop till n and pass each value to a function, create a function that takes one integer parameter, and multiply with 2 in every integer\n",
    "Input:n=5\n",
    "Output:   2 4 6 8 10"
   ]
  },
  {
   "cell_type": "code",
   "execution_count": null,
   "metadata": {},
   "outputs": [],
   "source": [
    "n = 5\n",
    "def multFun(n):\n",
    "    for i in range(1,n+1):\n",
    "       print(i*2)\n",
    "multFun(n)"
   ]
  },
  {
   "cell_type": "markdown",
   "metadata": {},
   "source": [
    "# 20. Create Function that will take one parameter and return type of the data"
   ]
  },
  {
   "cell_type": "code",
   "execution_count": null,
   "metadata": {},
   "outputs": [],
   "source": [
    "def returnDatatype(data):\n",
    "    return type(data)\n",
    "print(returnDatatype(\"data\"))"
   ]
  },
  {
   "cell_type": "markdown",
   "metadata": {},
   "source": [
    "# 21.Program to find greatest of three numbers(using ternary operator)."
   ]
  },
  {
   "cell_type": "code",
   "execution_count": null,
   "metadata": {},
   "outputs": [],
   "source": [
    "def greatest_in_threeNumbers(num1,num2,num3):\n",
    "    return num1 if num1 > num2 and num1 > num2 else num2 if num2 > num3 else num3\n",
    "\n",
    "print(greatest_in_threeNumbers(4,8,2))"
   ]
  },
  {
   "cell_type": "markdown",
   "metadata": {},
   "source": [
    "# 22.Program to find factorial of number."
   ]
  },
  {
   "cell_type": "code",
   "execution_count": null,
   "metadata": {},
   "outputs": [],
   "source": [
    "def factorial_num(n):\n",
    "    fact = 1\n",
    "    for i in range(1,n+1):\n",
    "        fact = fact*i\n",
    "    return fact\n",
    "\n",
    "print(factorial_num(5)) "
   ]
  },
  {
   "cell_type": "markdown",
   "metadata": {},
   "source": [
    "# 23.Program to arrange numbers in ascending order"
   ]
  },
  {
   "cell_type": "code",
   "execution_count": null,
   "metadata": {},
   "outputs": [],
   "source": [
    "def selection_sort(arr, n):\n",
    "    for i in range(n - 1):\n",
    "        smallest_index = i  \n",
    "        for j in range(i + 1, n):\n",
    "            if arr[j] < arr[smallest_index]:\n",
    "                smallest_index = j\n",
    "        \n",
    "        arr[smallest_index], arr[i] = arr[i], arr[smallest_index]\n",
    "\n",
    "arr = [2, 0, 2, 1, 1, 0]\n",
    "n = len(arr)\n",
    "selection_sort(arr, n)\n",
    "print(arr)"
   ]
  },
  {
   "cell_type": "markdown",
   "metadata": {},
   "source": [
    "# 24.Print Patter using loop\n",
    "1\n",
    "1 2\n",
    "1 2 3\n",
    "1 2 3 4\n",
    "1 2 3 4 5"
   ]
  },
  {
   "cell_type": "code",
   "execution_count": null,
   "metadata": {},
   "outputs": [],
   "source": [
    "def pattern(n):\n",
    "    for i in range(1,n+1):\n",
    "        for j in range(1,i+1):\n",
    "            print(j,end=\" \")\n",
    "        print()\n",
    "\n",
    "pattern(5)"
   ]
  },
  {
   "cell_type": "markdown",
   "metadata": {},
   "source": [
    "# 25.Program to Calculate the Power of a Number(using loop only)"
   ]
  },
  {
   "cell_type": "code",
   "execution_count": null,
   "metadata": {},
   "outputs": [],
   "source": [
    "def powerOfNum(n,p):\n",
    "    result = 1\n",
    "    for i in range(p):\n",
    "        result *= n\n",
    "    return result\n",
    "print(powerOfNum(5,3))"
   ]
  },
  {
   "cell_type": "markdown",
   "metadata": {},
   "source": [
    "# 26.Program to Check Whether a Number is Prime or Not"
   ]
  },
  {
   "cell_type": "code",
   "execution_count": null,
   "metadata": {},
   "outputs": [],
   "source": [
    "\n",
    "def isPrime(num1):\n",
    "    if num1 in [0,1] or num1 < 0 :  \n",
    "        print(\"Neither prime nor prime composite\")\n",
    "    else :\n",
    "        flage = True\n",
    "        for i in range(2, int(num1 ** 0.5)+ 1):\n",
    "            if num1 % i == 0 :\n",
    "                flage = False\n",
    "                print(\"Not a prime Number\")\n",
    "                break\n",
    "        if flage: \n",
    "            print(\"Prime number\") \n",
    "\n",
    "isPrime(20)"
   ]
  },
  {
   "cell_type": "markdown",
   "metadata": {},
   "source": [
    "# 27.Program to find LCM of two numbers using while loop"
   ]
  },
  {
   "cell_type": "code",
   "execution_count": null,
   "metadata": {},
   "outputs": [],
   "source": [
    "num1 = int(input(\"Enter num1 : \"))\n",
    "num2 = int(input(\"Enter num2 : \"))\n",
    "\n",
    "def get_lcm(num1, num2):\n",
    "    lcm = num1 if num1 > num2 else num2\n",
    "    \n",
    "    while True:\n",
    "        if lcm % num1 == 0 and lcm % num2 == 0:\n",
    "            break\n",
    "        lcm += 1\n",
    "    \n",
    "    print(f\"LCM of {num1},{num2} is {lcm}\")\n",
    "\n",
    "\n",
    "get_lcm(num1, num2)"
   ]
  },
  {
   "cell_type": "markdown",
   "metadata": {},
   "source": [
    "# 28.Program to Display Characters from A to Z Using Loop with count"
   ]
  },
  {
   "cell_type": "code",
   "execution_count": null,
   "metadata": {},
   "outputs": [],
   "source": [
    "count = 0\n",
    "\n",
    "for i in range(65, 91):  # ASCII values of 'A' (65) to 'Z' (90)\n",
    "    count += 1 \n",
    "    print(chr(i),count)  # Convert ASCII to character and print\n",
    "    # Increment count\n",
    "\n",
    "\n",
    "print(\"\\nTotal characters displayed:\", count)"
   ]
  },
  {
   "cell_type": "markdown",
   "metadata": {},
   "source": [
    "# 29.Program to find a missing number\n",
    "Input:  n=5(length of array), arr= [5,3,1,4]\n",
    "Output: 2 is missing"
   ]
  },
  {
   "cell_type": "code",
   "execution_count": null,
   "metadata": {},
   "outputs": [],
   "source": [
    "listins =[1,3,4,5]\n",
    "maxing = 5\n",
    "for i in range(1, maxing + 1):\n",
    "    if i  in listins:\n",
    "        pass\n",
    "    else:\n",
    "        print(i ,\"is missing\")"
   ]
  },
  {
   "cell_type": "markdown",
   "metadata": {},
   "source": [
    "# 30.Program to count vowels and consonants in a given String"
   ]
  },
  {
   "cell_type": "code",
   "execution_count": null,
   "metadata": {},
   "outputs": [],
   "source": [
    "char = \"i am ram\"\n",
    "char = char.replace(' ','')\n",
    "print(char)\n",
    "vowelCount = 0\n",
    "consonants = 0\n",
    "for ch in char:\n",
    "    if ch in ['a','e','i','o','u']:\n",
    "        vowelCount += 1\n",
    "    elif char.isalpha() :\n",
    "        consonants +=1\n",
    "      \n",
    "print(vowelCount,consonants)"
   ]
  },
  {
   "cell_type": "markdown",
   "metadata": {},
   "source": [
    "# 31.program to insert  the elements of an array for specific index"
   ]
  },
  {
   "cell_type": "code",
   "execution_count": null,
   "metadata": {},
   "outputs": [],
   "source": [
    "list1 = [1,2,3,4,5,7,8,9,10]\n",
    "list1.insert(5,6)\n",
    "print(list1)"
   ]
  },
  {
   "cell_type": "markdown",
   "metadata": {},
   "source": [
    "# 32.Reverse a number using while Loop\n",
    "Input: 123\n",
    "Output: 321"
   ]
  },
  {
   "cell_type": "code",
   "execution_count": null,
   "metadata": {},
   "outputs": [],
   "source": [
    "num = 123\n",
    "\n",
    "def reverse(num):\n",
    "    temp = num\n",
    "    sum = 0\n",
    "    while temp != 0:\n",
    "        rem = temp % 10\n",
    "        sum = sum * 10 + rem\n",
    "        temp = temp // 10\n",
    "    return sum    \n",
    "\n",
    "print(reverse(num))"
   ]
  },
  {
   "cell_type": "markdown",
   "metadata": {},
   "source": [
    "# 33.Count occurrence of number\n",
    "Input: [1,6,3,1,5,9,7,2,1,9,3,7,8,9,10] , no find=7\n",
    "Output: 7 present 2 times."
   ]
  },
  {
   "cell_type": "code",
   "execution_count": null,
   "metadata": {},
   "outputs": [],
   "source": [
    "arr = [1,6,3,1,5,9,7,2,1,9,3,7,8,9,10]\n",
    "num = 7\n",
    "count = 0\n",
    "for i in arr:\n",
    "    if num == i:\n",
    "        count += 1\n",
    "print(count)  "
   ]
  }
 ],
 "metadata": {
  "language_info": {
   "name": "python"
  }
 },
 "nbformat": 4,
 "nbformat_minor": 2
}
