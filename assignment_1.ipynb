{
 "cells": [
  {
   "cell_type": "markdown",
   "metadata": {},
   "source": [
    "# lcm of two numbers"
   ]
  },
  {
   "cell_type": "code",
   "execution_count": null,
   "metadata": {},
   "outputs": [],
   "source": [
    "# lcm of two numbers\n",
    "# 2 -> 2,4,6,8,10,12\n",
    "# 3 -> 3,6,9,12,15,18\n",
    "# lcm(2,3) -> 6\n",
    "\n",
    "num1 = int(input(\"Enter num1 : \"))\n",
    "num2 = int(input(\"Enter num2 : \"))\n",
    "\n",
    "def get_lcm(num1, num2):\n",
    "    lcm = num1 if num1 > num2 else num2\n",
    "    \n",
    "    while True:\n",
    "        if lcm % num1 == 0 and lcm % num2 == 0:\n",
    "            break\n",
    "        lcm += 1\n",
    "    \n",
    "    print(f\"LCM of {num1},{num2} is {lcm}\")\n",
    "\n",
    "\n",
    "get_lcm(num1, num2)"
   ]
  },
  {
   "cell_type": "markdown",
   "metadata": {},
   "source": []
  },
  {
   "cell_type": "markdown",
   "metadata": {},
   "source": [
    "# hcf/gcd of two numbers"
   ]
  },
  {
   "cell_type": "code",
   "execution_count": null,
   "metadata": {},
   "outputs": [],
   "source": [
    "# hcf/gcd --> 5,10 = 5\n",
    "#  5 -> 5,10,15,20\n",
    "# 10 -> 10,20,30,40\n",
    "\n",
    "num1 = int(input(\"Enter num1 : \"))\n",
    "num2 = int(input(\"Enter num2 : \"))\n",
    "\n",
    "def get_gcd(num1, num2) :\n",
    "    min_val = num1 if num1 < num2 else num2\n",
    "    while min_val > 0:\n",
    "        if num1 % min_val == 0 and num2 % min_val == 0:\n",
    "            return min_val  # Found GCD\n",
    "        min_val -= 1\n",
    "    \n",
    "\n",
    "print(get_gcd(num1, num2))"
   ]
  },
  {
   "cell_type": "markdown",
   "metadata": {},
   "source": [
    "# sum of odd digits in a number"
   ]
  },
  {
   "cell_type": "code",
   "execution_count": null,
   "metadata": {},
   "outputs": [],
   "source": [
    "# sum of odd digits in a number\n",
    "# 2355 --> 13\n",
    "\n",
    "num = int(input(\"enter one number : \"))\n",
    "def odd_digits_sum(num):\n",
    "    temp = num\n",
    "    sum = 0\n",
    "    while temp > 0 :\n",
    "        rem = temp % 10\n",
    "        if rem % 2 != 0 :\n",
    "           sum += rem\n",
    "        temp //= 10\n",
    "    return sum    \n",
    "\n",
    "print(odd_digits_sum(num))"
   ]
  },
  {
   "cell_type": "markdown",
   "metadata": {},
   "source": [
    "# sum of non-prime digits sum "
   ]
  },
  {
   "cell_type": "code",
   "execution_count": null,
   "metadata": {},
   "outputs": [],
   "source": [
    "# sum of non-prime digits sum \n",
    "# 365474 -> 14\n",
    "\n",
    "num = int(input(\"enter one number : \"))\n",
    "\n",
    "def non_prime_digits_sum(num):\n",
    "    temp = num\n",
    "    sum = 0\n",
    "    while temp > 0 :\n",
    "        rem = temp % 10\n",
    "        if rem in [0,1]:\n",
    "            sum += rem\n",
    "        else :\n",
    "            for i in range(2,rem):\n",
    "                if rem % i == 0:\n",
    "                    sum += rem\n",
    "                    break\n",
    "            temp //= 10    \n",
    "    return sum\n",
    "\n",
    "print(non_prime_digits_sum(num))        "
   ]
  },
  {
   "cell_type": "markdown",
   "metadata": {},
   "source": [
    "# find the perfect number "
   ]
  },
  {
   "cell_type": "code",
   "execution_count": null,
   "metadata": {},
   "outputs": [],
   "source": [
    "n = int(input(\"enter one number : \"))\n",
    "sum = 0\n",
    "\n",
    "for i in range(1,n):\n",
    "    if n % i == 0 :\n",
    "        sum += i\n",
    "\n",
    "if sum == n :\n",
    "    print(f\"{n} is perfect number\")\n",
    "else :\n",
    "    print(f\"{n} is not a perfect number\")    "
   ]
  }
 ],
 "metadata": {
  "kernelspec": {
   "display_name": "Python 3",
   "language": "python",
   "name": "python3"
  },
  "language_info": {
   "codemirror_mode": {
    "name": "ipython",
    "version": 3
   },
   "file_extension": ".py",
   "mimetype": "text/x-python",
   "name": "python",
   "nbconvert_exporter": "python",
   "pygments_lexer": "ipython3",
   "version": "3.13.2"
  }
 },
 "nbformat": 4,
 "nbformat_minor": 2
}
